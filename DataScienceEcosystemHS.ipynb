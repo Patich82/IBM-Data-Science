{
 "cells": [
  {
   "cell_type": "markdown",
   "id": "682bdb2f-dc46-4cc7-bd27-3ebe75efe4c3",
   "metadata": {},
   "source": [
    "# Data Science Tools and Ecosystem"
   ]
  },
  {
   "cell_type": "markdown",
   "id": "89cf5ff1-cfff-4d39-923e-e531d85d9d5f",
   "metadata": {},
   "source": [
    "### In this notebook, Data Science Tools and Ecosystems are summarized"
   ]
  },
  {
   "cell_type": "markdown",
   "id": "fd45a343-d848-4cdc-a17c-a18617784ac5",
   "metadata": {},
   "source": [
    "**Objectives:**\n",
    "- List popular languages for Data Science\n",
    "- List popular libraries for Data Science\n",
    "- List Open Data Science Tools\n",
    "- Made examples of evaluating arithmetic expressions in Python"
   ]
  },
  {
   "cell_type": "markdown",
   "id": "d0050ea8-f496-4b61-be8f-b7536f3b9b5c",
   "metadata": {
    "jp-MarkdownHeadingCollapsed": true
   },
   "source": [
    "### Some of the popular languages that Data Scientists use are:\n",
    "1. Python\n",
    "1. R\n",
    "1. Julia"
   ]
  },
  {
   "cell_type": "markdown",
   "id": "e1c0e752-ee9c-459c-b213-e246fc92eca9",
   "metadata": {},
   "source": [
    "### Some of the commonly used libraries used by Data Scientists include:\n",
    "1. NumPy library\n",
    "1. Matplotlib\n",
    "1. Seaborn\n",
    "1. Scikit-learn library "
   ]
  },
  {
   "cell_type": "markdown",
   "id": "03f9d714-f819-4421-b47d-057b048e8681",
   "metadata": {},
   "source": [
    "### Data Science Tools\n",
    "\n",
    "| Data Science Tools | \n",
    "| -------------------| \n",
    "| Jupyter | \n",
    "| Apache Zeppelin |\n",
    "| RStudio |"
   ]
  },
  {
   "cell_type": "markdown",
   "id": "7742f5b8-1d2f-4c3e-81f2-f2a653500e7c",
   "metadata": {},
   "source": [
    "### Below are a few examples of evaluating arithmetic expressions in Python"
   ]
  },
  {
   "cell_type": "markdown",
   "id": "075026ba-00b3-40ae-8ef5-2b58b34925cd",
   "metadata": {},
   "source": [
    "### This a simple arithmetic expression to mutiply then add integers"
   ]
  },
  {
   "cell_type": "code",
   "execution_count": 11,
   "id": "293ab8e1-5fd4-4cc4-a91b-b57f78c9af71",
   "metadata": {},
   "outputs": [
    {
     "data": {
      "text/plain": [
       "17"
      ]
     },
     "execution_count": 11,
     "metadata": {},
     "output_type": "execute_result"
    }
   ],
   "source": [
    "# Execute a simple expression \n",
    "(3*4)+5"
   ]
  },
  {
   "cell_type": "code",
   "execution_count": 38,
   "id": "897393da-21c2-4de4-ae41-871561b25657",
   "metadata": {},
   "outputs": [
    {
     "name": "stdout",
     "output_type": "stream",
     "text": [
      "hours: 3.3333333333333335\n"
     ]
    }
   ],
   "source": [
    "# This will convert 200 minutes to hours by diving by 60\n",
    "\n",
    "m = 200\n",
    "hours = m/60\n",
    "\n",
    "print (\"hours:\", hours)\n",
    "\n"
   ]
  },
  {
   "cell_type": "markdown",
   "id": "58a88005-88e0-432a-8684-244f10da2a07",
   "metadata": {},
   "source": [
    "## Author \n",
    "Hector Santacruz "
   ]
  },
  {
   "cell_type": "code",
   "execution_count": null,
   "id": "a61ad4ca-c240-4f57-9783-c68e65ae20ea",
   "metadata": {},
   "outputs": [],
   "source": []
  }
 ],
 "metadata": {
  "kernelspec": {
   "display_name": "anaconda-panel-2023.05-py310",
   "language": "python",
   "name": "conda-env-anaconda-panel-2023.05-py310-py"
  },
  "language_info": {
   "codemirror_mode": {
    "name": "ipython",
    "version": 3
   },
   "file_extension": ".py",
   "mimetype": "text/x-python",
   "name": "python",
   "nbconvert_exporter": "python",
   "pygments_lexer": "ipython3",
   "version": "3.11.5"
  }
 },
 "nbformat": 4,
 "nbformat_minor": 5
}
